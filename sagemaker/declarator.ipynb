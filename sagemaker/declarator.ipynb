{
 "cells": [
  {
   "cell_type": "code",
   "execution_count": 7,
   "metadata": {},
   "outputs": [],
   "source": [
    "%matplotlib inline\n",
    "\n",
    "import json\n",
    "import pprint as pp\n",
    "import pandas as pd\n",
    "import tqdm\n",
    "\n",
    "import os\n",
    "import numpy as np\n",
    "import tensorflow as tf\n",
    "from tensorflow.contrib.tensorboard.plugins import projector\n",
    "from sklearn import preprocessing"
   ]
  },
  {
   "cell_type": "code",
   "execution_count": 2,
   "metadata": {},
   "outputs": [],
   "source": [
    "#with open('persons_parsed.json', 'r') as f:\n",
    "#     persons = json.load(f)"
   ]
  },
  {
   "cell_type": "code",
   "execution_count": 24,
   "metadata": {},
   "outputs": [],
   "source": [
    "def create_embedding():    \n",
    "    df = pd.read_csv('family_summary_data_2018.csv')\n",
    "    df = df.drop(df.columns[0], axis=1)\n",
    "    header = ['name', 'personal_income', 'ap_sq', 'land_sq']\n",
    "    emb_header = ['personal_income', 'ap_sq', 'land_sq']\n",
    "    \n",
    "#   df[emb_header] = df[emb_header].apply(lambda x: (x - x.min()) / (x.max() - x.min()))\n",
    "#   df[emb_header] = df[emb_header].apply(lambda x: x/x.max(), axis=0)\n",
    "#   df[emb_header] = np.log(df[emb_header])\n",
    "\n",
    "    df_short = df[header]\n",
    "    df_short.loc[-1] = ['zero', 0, 0, 0] \n",
    "    \n",
    "    df_short.to_csv(\"logs/metadata.tsv\", sep='\\t', index=True, index_label='id')\n",
    "    embedding = []\n",
    "    \n",
    "    for index, row in df_short.iterrows():\n",
    "        t = row[emb_header].values    \n",
    "        embedding.append(np.array([t[0], t[1], t[2]]))\n",
    "\n",
    "\n",
    "    embedding = np.array(embedding)\n",
    "\n",
    "    return header, embedding"
   ]
  },
  {
   "cell_type": "code",
   "execution_count": 25,
   "metadata": {},
   "outputs": [
    {
     "name": "stderr",
     "output_type": "stream",
     "text": [
      "/home/ec2-user/anaconda3/envs/tensorflow_p36/lib/python3.6/site-packages/ipykernel/__main__.py:25: SettingWithCopyWarning: \n",
      "A value is trying to be set on a copy of a slice from a DataFrame\n",
      "\n",
      "See the caveats in the documentation: http://pandas.pydata.org/pandas-docs/stable/indexing.html#indexing-view-versus-copy\n"
     ]
    }
   ],
   "source": [
    "outpath = 'logs'\n",
    "# ensure_dir(outpath)\n",
    "# header, metadata, embedding = create_embedding()\n",
    "header, embedding = create_embedding()\n",
    "# print(embedding)\n",
    "embedding_v = tf.Variable(embedding, trainable=True, name='embedding')\n",
    "with tf.Session() as sess:\n",
    "\n",
    "    tf.global_variables_initializer().run()\n",
    "\n",
    "    saver = tf.train.Saver()\n",
    "    writer = tf.summary.FileWriter(outpath, sess.graph)\n",
    "    config = projector.ProjectorConfig()\n",
    "    embed = config.embeddings.add()\n",
    "    embed.tensor_name = 'embedding:0'\n",
    "    embed.metadata_path = 'metadata.tsv'\n",
    "    projector.visualize_embeddings(writer, config)\n",
    "\n",
    "    saver.save(sess, os.path.join(outpath, 'a_model.ckpt'))"
   ]
  },
  {
   "cell_type": "code",
   "execution_count": null,
   "metadata": {},
   "outputs": [],
   "source": []
  },
  {
   "cell_type": "code",
   "execution_count": null,
   "metadata": {},
   "outputs": [],
   "source": []
  }
 ],
 "metadata": {
  "kernelspec": {
   "display_name": "conda_tensorflow_p36",
   "language": "python",
   "name": "conda_tensorflow_p36"
  },
  "language_info": {
   "codemirror_mode": {
    "name": "ipython",
    "version": 3
   },
   "file_extension": ".py",
   "mimetype": "text/x-python",
   "name": "python",
   "nbconvert_exporter": "python",
   "pygments_lexer": "ipython3",
   "version": "3.6.5"
  }
 },
 "nbformat": 4,
 "nbformat_minor": 4
}
