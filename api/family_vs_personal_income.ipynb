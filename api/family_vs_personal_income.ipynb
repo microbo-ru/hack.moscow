{
 "cells": [
  {
   "cell_type": "code",
   "execution_count": 7,
   "metadata": {},
   "outputs": [],
   "source": [
    "import json\n",
    "import pprint as pp\n",
    "import pandas as pd\n",
    "import tqdm"
   ]
  },
  {
   "cell_type": "code",
   "execution_count": 8,
   "metadata": {},
   "outputs": [],
   "source": [
    "with open(\"persons_parsed_with_region.json\", 'r') as f:\n",
    "    persons = json.load(f)"
   ]
  },
  {
   "cell_type": "code",
   "execution_count": 10,
   "metadata": {},
   "outputs": [],
   "source": [
    "def family_comp(pid, persons):\n",
    "    person = persons[pid]\n",
    "    res = {\n",
    "        \"name\": person[\"name\"],\n",
    "        \"id\": person[\"id\"],\n",
    "        \"region\": person[\"region\"],\n",
    "        \"years\": {}\n",
    "    }\n",
    "    \n",
    "    for declaration in person[\"sections\"]:\n",
    "        year = declaration[\"main\"][\"year\"]\n",
    "        res[\"years\"][year] = {\"personal_income\": 0, \"family_income\": 0, \"childrens_income\": 0,\\\n",
    "                                                    \"personal_sq\": 0, \"family_sq\": 0, \"childrens_sq\": 0,\\\n",
    "                                                    \"personal_veh\": 0, \"family_veh\": 0, \"childrens_veh\": 0,\\\n",
    "                                                    \"ap_sq\": 0, \"land_sq\": 0}\n",
    "        for income in declaration[\"incomes\"]:\n",
    "            if income[\"relative\"] == None:\n",
    "                res[\"years\"][year][\"personal_income\"] += float(income[\"size\"]) if float(income[\"size\"]) != None else 0\n",
    "            elif income[\"relative\"][\"id\"] == 2:\n",
    "                res[\"years\"][year][\"family_income\"] += float(income[\"size\"]) if float(income[\"size\"]) != None else 0\n",
    "            else:\n",
    "                res[\"years\"][year][\"childrens_income\"] += float(income[\"size\"]) if float(income[\"size\"]) != None else 0\n",
    "                \n",
    "                \n",
    "        for estate in declaration[\"real_estates\"]:\n",
    "            if estate[\"relative\"] == None:\n",
    "                res[\"years\"][year][\"personal_sq\"] += estate[\"square\"] if estate[\"square\"] != None else 0\n",
    "                if estate[\"type\"][\"id\"] == 3 or estate[\"type\"][\"id\"] == 4 :\n",
    "                    res[\"years\"][year][\"ap_sq\"] += estate[\"square\"] if estate[\"square\"] != None else 0\n",
    "                else:\n",
    "                    res[\"years\"][year][\"land_sq\"] += estate[\"square\"] if estate[\"square\"] != None else 0\n",
    "            elif estate[\"relative\"][\"id\"] == 2:\n",
    "                res[\"years\"][year][\"family_sq\"] += estate[\"square\"] if estate[\"square\"] != None else 0\n",
    "                if estate[\"type\"][\"id\"] == 3 or estate[\"type\"][\"id\"] == 4 :\n",
    "                    res[\"years\"][year][\"ap_sq\"] += estate[\"square\"] if estate[\"square\"] != None else 0\n",
    "                else:\n",
    "                    res[\"years\"][year][\"land_sq\"] += estate[\"square\"] if estate[\"square\"] != None else 0\n",
    "            else:\n",
    "                res[\"years\"][year][\"childrens_sq\"] += estate[\"square\"] if estate[\"square\"] != None else 0\n",
    "                if estate[\"type\"][\"id\"] == 3 or estate[\"type\"][\"id\"] == 4 :\n",
    "                    res[\"years\"][year][\"ap_sq\"] += estate[\"square\"] if estate[\"square\"] != None else 0\n",
    "                else:\n",
    "                    res[\"years\"][year][\"land_sq\"] += estate[\"square\"] if estate[\"square\"] != None else 0\n",
    "                \n",
    "        for veh in declaration[\"vehicles\"]:\n",
    "            if veh[\"relative\"] == None:\n",
    "                res[\"years\"][year][\"personal_veh\"] += 1\n",
    "            elif veh[\"relative\"][\"id\"] == 2:\n",
    "                res[\"years\"][year][\"family_veh\"] += 1\n",
    "            else:\n",
    "                res[\"years\"][year][\"childrens_veh\"] += 1\n",
    "                \n",
    "        res[\"years\"][year][\"total_income\"] = res[\"years\"][year][\"personal_income\"] \\\n",
    "                                            + res[\"years\"][year][\"childrens_income\"] \\\n",
    "                                            + res[\"years\"][year][\"family_income\"]\n",
    "        \n",
    "        res[\"years\"][year][\"total_sq\"] = res[\"years\"][year][\"personal_sq\"] \\\n",
    "                                            + res[\"years\"][year][\"childrens_sq\"] \\\n",
    "                                            + res[\"years\"][year][\"family_sq\"]\n",
    "        \n",
    "        res[\"years\"][year][\"total_veh\"] = res[\"years\"][year][\"personal_veh\"] \\\n",
    "                                            + res[\"years\"][year][\"childrens_veh\"] \\\n",
    "                                            + res[\"years\"][year][\"family_veh\"]\n",
    "    return res"
   ]
  },
  {
   "cell_type": "code",
   "execution_count": 11,
   "metadata": {},
   "outputs": [
    {
     "name": "stderr",
     "output_type": "stream",
     "text": [
      "100%|██████████| 59031/59031 [00:01<00:00, 32851.98it/s]\n"
     ]
    }
   ],
   "source": [
    "family_results = {}\n",
    "\n",
    "for key in tqdm.tqdm(persons):\n",
    "    family_results[key] = family_comp(key, persons)"
   ]
  },
  {
   "cell_type": "code",
   "execution_count": 20,
   "metadata": {},
   "outputs": [
    {
     "name": "stdout",
     "output_type": "stream",
     "text": [
      "max personal_income is 843596516.76 belongs to Рассудов Александр Николаевич  32283 2017 at Санкт-Петербург\n",
      "max childrens_income is 14490000.0 belongs to Шушвал Максим Николаевич  58550 2018 at Санкт-Петербург\n",
      "max family_income is 276495179.52 belongs to Кичеджи Василий Николаевич  999 2016 at Санкт-Петербург\n",
      "max personal_sq is 86309054.1 belongs to Чапаева Елена Андреевна  53372 2016 at Санкт-Петербург\n",
      "max childrens_sq is 50196.0 belongs to Филиппов К. А.  35408 2014 at Санкт-Петербург\n",
      "max family_sq is 52072785.99999999 belongs to Лысакова Ирина Васильевна  54746 2016 at Санкт-Петербург\n",
      "max personal_veh is 19 belongs to Антошевский Александр Константинович  58951 2018 at Санкт-Петербург\n",
      "max childrens_veh is 1 belongs to Фролова Юлия Геннадьевна  6486 2016 at Санкт-Петербург\n",
      "max family_veh is 11 belongs to Васильева Людмила Александровна  54526 2016 at Санкт-Петербург\n",
      "max ap_sq is 3076984.0 belongs to Легкая Лидия Сергеевна  9367 2018 at Санкт-Петербург\n",
      "max land_sq is 104145297.6 belongs to Лысакова Ирина Васильевна  54746 2016 at Санкт-Петербург\n"
     ]
    }
   ],
   "source": [
    "fields = (\"personal_income\", \"childrens_income\", \"family_income\", \"personal_sq\", \"childrens_sq\",\\\n",
    "         \"family_sq\", \"personal_veh\", \"childrens_veh\", \"family_veh\", \"ap_sq\", \"land_sq\")\n",
    "\n",
    "for field in fields:\n",
    "    max_val = 0\n",
    "    max_id = 0\n",
    "    max_year = 0\n",
    "    for pid in family_results:\n",
    "        person = family_results[pid]\n",
    "        for year in person[\"years\"]:\n",
    "            if person[\"years\"][year][field] > max_val and person[\"region\"]['id']==1:\n",
    "                max_val = person[\"years\"][year][field]\n",
    "                max_id = person[\"id\"]\n",
    "                max_year = year\n",
    "              \n",
    "    print(\"max \" + field + \" is \" + str(max_val) + \" belongs to \" + persons[str(max_id)][\"name\"] + \"  \" + str(max_id) + \" \" + str(max_year) + \" at \" + persons[str(max_id)][\"region\"][\"name\"]) "
   ]
  },
  {
   "cell_type": "code",
   "execution_count": 14,
   "metadata": {},
   "outputs": [],
   "source": [
    "new_family_results = {}\n",
    "\n",
    "for pid in family_results:\n",
    "    if family_results[pid][\"region\"][\"id\"] == 1 or family_results[pid][\"region\"][\"id\"] == 63:\n",
    "        new_family_results[pid] = family_results[pid]\n",
    "family_results = new_family_results"
   ]
  },
  {
   "cell_type": "code",
   "execution_count": 18,
   "metadata": {},
   "outputs": [],
   "source": [
    "with open(\"family_summ_with_reg.json\", \"w\") as f:\n",
    "    json.dump(family_results, f)"
   ]
  },
  {
   "cell_type": "code",
   "execution_count": 53,
   "metadata": {},
   "outputs": [],
   "source": [
    "import pandas as pd\n"
   ]
  },
  {
   "cell_type": "code",
   "execution_count": 61,
   "metadata": {},
   "outputs": [],
   "source": [
    "family_results_year = {}\n",
    "year = 2018\n",
    "for key in family_results:\n",
    "    if year in family_results[key][\"years\"]:\n",
    "        family_results_year[key] = {\n",
    "            \"name\": family_results[key][\"name\"],\n",
    "            \"id\": family_results[key][\"id\"]\n",
    "        }\n",
    "        for field in fields:\n",
    "            family_results_year[key][field] = family_results[key][\"years\"][year][field]"
   ]
  },
  {
   "cell_type": "code",
   "execution_count": 71,
   "metadata": {
    "scrolled": false
   },
   "outputs": [],
   "source": [
    "df = pd.DataFrame.from_dict(family_results_year, orient=\"index\")"
   ]
  },
  {
   "cell_type": "code",
   "execution_count": 72,
   "metadata": {},
   "outputs": [
    {
     "data": {
      "text/html": [
       "<div>\n",
       "<style scoped>\n",
       "    .dataframe tbody tr th:only-of-type {\n",
       "        vertical-align: middle;\n",
       "    }\n",
       "\n",
       "    .dataframe tbody tr th {\n",
       "        vertical-align: top;\n",
       "    }\n",
       "\n",
       "    .dataframe thead th {\n",
       "        text-align: right;\n",
       "    }\n",
       "</style>\n",
       "<table border=\"1\" class=\"dataframe\">\n",
       "  <thead>\n",
       "    <tr style=\"text-align: right;\">\n",
       "      <th></th>\n",
       "      <th>name</th>\n",
       "      <th>id</th>\n",
       "      <th>personal_income</th>\n",
       "      <th>childrens_income</th>\n",
       "      <th>family_income</th>\n",
       "      <th>personal_sq</th>\n",
       "      <th>childrens_sq</th>\n",
       "      <th>family_sq</th>\n",
       "      <th>personal_veh</th>\n",
       "      <th>childrens_veh</th>\n",
       "      <th>family_veh</th>\n",
       "      <th>ap_sq</th>\n",
       "      <th>land_sq</th>\n",
       "    </tr>\n",
       "  </thead>\n",
       "  <tbody>\n",
       "    <tr>\n",
       "      <th>100</th>\n",
       "      <td>Островский Алексей Владимирович</td>\n",
       "      <td>100</td>\n",
       "      <td>3.392518e+06</td>\n",
       "      <td>0.0</td>\n",
       "      <td>0.00</td>\n",
       "      <td>3212.2</td>\n",
       "      <td>68.0</td>\n",
       "      <td>34.0</td>\n",
       "      <td>1</td>\n",
       "      <td>0</td>\n",
       "      <td>0</td>\n",
       "      <td>1182.2</td>\n",
       "      <td>2132.0</td>\n",
       "    </tr>\n",
       "    <tr>\n",
       "      <th>10032</th>\n",
       "      <td>Большаков Илья Владимирович</td>\n",
       "      <td>10032</td>\n",
       "      <td>1.879366e+06</td>\n",
       "      <td>0.0</td>\n",
       "      <td>252686.18</td>\n",
       "      <td>205.9</td>\n",
       "      <td>253.2</td>\n",
       "      <td>149.7</td>\n",
       "      <td>2</td>\n",
       "      <td>0</td>\n",
       "      <td>0</td>\n",
       "      <td>608.8</td>\n",
       "      <td>0.0</td>\n",
       "    </tr>\n",
       "    <tr>\n",
       "      <th>100437</th>\n",
       "      <td>Бородовицын Андрей Николаевич</td>\n",
       "      <td>100437</td>\n",
       "      <td>1.546490e+06</td>\n",
       "      <td>0.0</td>\n",
       "      <td>2216340.71</td>\n",
       "      <td>850.4</td>\n",
       "      <td>761.8</td>\n",
       "      <td>761.8</td>\n",
       "      <td>2</td>\n",
       "      <td>0</td>\n",
       "      <td>0</td>\n",
       "      <td>366.1</td>\n",
       "      <td>2007.9</td>\n",
       "    </tr>\n",
       "    <tr>\n",
       "      <th>1007</th>\n",
       "      <td>Пономарев Валерий Андреевич</td>\n",
       "      <td>1007</td>\n",
       "      <td>2.345810e+09</td>\n",
       "      <td>0.0</td>\n",
       "      <td>27070526.61</td>\n",
       "      <td>603.3</td>\n",
       "      <td>0.0</td>\n",
       "      <td>188.0</td>\n",
       "      <td>4</td>\n",
       "      <td>0</td>\n",
       "      <td>0</td>\n",
       "      <td>680.5</td>\n",
       "      <td>110.8</td>\n",
       "    </tr>\n",
       "    <tr>\n",
       "      <th>10080</th>\n",
       "      <td>Афанасьева Ирина Кирилловна</td>\n",
       "      <td>10080</td>\n",
       "      <td>1.535041e+06</td>\n",
       "      <td>0.0</td>\n",
       "      <td>0.00</td>\n",
       "      <td>60.6</td>\n",
       "      <td>0.0</td>\n",
       "      <td>0.0</td>\n",
       "      <td>0</td>\n",
       "      <td>0</td>\n",
       "      <td>0</td>\n",
       "      <td>60.6</td>\n",
       "      <td>0.0</td>\n",
       "    </tr>\n",
       "  </tbody>\n",
       "</table>\n",
       "</div>"
      ],
      "text/plain": [
       "                                   name      id  personal_income  \\\n",
       "100     Островский Алексей Владимирович     100     3.392518e+06   \n",
       "10032       Большаков Илья Владимирович   10032     1.879366e+06   \n",
       "100437    Бородовицын Андрей Николаевич  100437     1.546490e+06   \n",
       "1007        Пономарев Валерий Андреевич    1007     2.345810e+09   \n",
       "10080       Афанасьева Ирина Кирилловна   10080     1.535041e+06   \n",
       "\n",
       "        childrens_income  family_income  personal_sq  childrens_sq  family_sq  \\\n",
       "100                  0.0           0.00       3212.2          68.0       34.0   \n",
       "10032                0.0      252686.18        205.9         253.2      149.7   \n",
       "100437               0.0     2216340.71        850.4         761.8      761.8   \n",
       "1007                 0.0    27070526.61        603.3           0.0      188.0   \n",
       "10080                0.0           0.00         60.6           0.0        0.0   \n",
       "\n",
       "        personal_veh  childrens_veh  family_veh   ap_sq  land_sq  \n",
       "100                1              0           0  1182.2   2132.0  \n",
       "10032              2              0           0   608.8      0.0  \n",
       "100437             2              0           0   366.1   2007.9  \n",
       "1007               4              0           0   680.5    110.8  \n",
       "10080              0              0           0    60.6      0.0  "
      ]
     },
     "execution_count": 72,
     "metadata": {},
     "output_type": "execute_result"
    }
   ],
   "source": [
    "df.head()"
   ]
  },
  {
   "cell_type": "code",
   "execution_count": 46,
   "metadata": {},
   "outputs": [
    {
     "data": {
      "text/plain": [
       "495443.0"
      ]
     },
     "execution_count": 46,
     "metadata": {},
     "output_type": "execute_result"
    }
   ],
   "source": [
    "family_results[\"8\"][\"years\"][1999][\"personal_income\"]"
   ]
  },
  {
   "cell_type": "code",
   "execution_count": null,
   "metadata": {},
   "outputs": [],
   "source": []
  }
 ],
 "metadata": {
  "kernelspec": {
   "display_name": "Python 3",
   "language": "python",
   "name": "python3"
  },
  "language_info": {
   "codemirror_mode": {
    "name": "ipython",
    "version": 3
   },
   "file_extension": ".py",
   "mimetype": "text/x-python",
   "name": "python",
   "nbconvert_exporter": "python",
   "pygments_lexer": "ipython3",
   "version": "3.7.1"
  }
 },
 "nbformat": 4,
 "nbformat_minor": 2
}
